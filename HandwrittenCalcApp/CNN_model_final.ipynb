{
  "nbformat": 4,
  "nbformat_minor": 0,
  "metadata": {
    "colab": {
      "name": "btc증가_test02_HandwrittenCalc01.ipynb",
      "provenance": [],
      "collapsed_sections": []
    },
    "kernelspec": {
      "name": "python3",
      "display_name": "Python 3"
    },
    "language_info": {
      "name": "python"
    },
    "accelerator": "GPU"
  },
  "cells": [
    {
      "cell_type": "code",
      "metadata": {
        "colab": {
          "base_uri": "https://localhost:8080/"
        },
        "id": "SVzf3RYIfGys",
        "outputId": "0c1647b7-7612-49be-c52e-2c95f65482b7"
      },
      "source": [
        "!nvidia-smi -L"
      ],
      "execution_count": 2,
      "outputs": [
        {
          "output_type": "stream",
          "text": [
            "GPU 0: Tesla T4 (UUID: GPU-c252b097-ded4-f931-a80d-a9def02b7b14)\n"
          ],
          "name": "stdout"
        }
      ]
    },
    {
      "cell_type": "markdown",
      "metadata": {
        "id": "4ialnmZ_KwpS"
      },
      "source": [
        "# HandwrittenCalc"
      ]
    },
    {
      "cell_type": "code",
      "metadata": {
        "colab": {
          "base_uri": "https://localhost:8080/"
        },
        "id": "80W7WmzefKzO",
        "outputId": "7441b152-9647-435a-d004-6fe2534fe798"
      },
      "source": [
        "!pip install imutils\n",
        "\n",
        "import numpy as np \n",
        "import pandas as pd\n",
        "import cv2\n",
        "import tensorflow as tf\n",
        "import matplotlib.pyplot as plt\n",
        "%matplotlib inline\n",
        "from imutils.contours import sort_contours\n",
        "import imutils"
      ],
      "execution_count": 3,
      "outputs": [
        {
          "output_type": "stream",
          "text": [
            "Requirement already satisfied: imutils in /usr/local/lib/python3.7/dist-packages (0.5.4)\n"
          ],
          "name": "stdout"
        }
      ]
    },
    {
      "cell_type": "code",
      "metadata": {
        "id": "Lq18oMLvfQnq"
      },
      "source": [
        "from keras.models import Sequential\n",
        "from keras.layers import Conv2D\n",
        "from keras.layers import MaxPooling2D\n",
        "from keras.layers import Dense\n",
        "from keras.layers import Flatten\n",
        "from keras.optimizers import SGD\n",
        "from keras.preprocessing.image import ImageDataGenerator\n",
        "import os"
      ],
      "execution_count": 4,
      "outputs": []
    },
    {
      "cell_type": "code",
      "metadata": {
        "id": "BwyxiJOUfRxQ"
      },
      "source": [
        "from helper_functions import unzip_data, walk_through_dir, create_tensorboard_callback, plot_loss_curves"
      ],
      "execution_count": 5,
      "outputs": []
    },
    {
      "cell_type": "code",
      "metadata": {
        "id": "fF5iukwDfS4t"
      },
      "source": [
        "# unzip_data(\"All data (Compressed).zip\")"
      ],
      "execution_count": null,
      "outputs": []
    },
    {
      "cell_type": "markdown",
      "metadata": {
        "id": "otnB_Yi-LFOh"
      },
      "source": [
        "### 데이터 확인"
      ]
    },
    {
      "cell_type": "code",
      "metadata": {
        "colab": {
          "base_uri": "https://localhost:8080/"
        },
        "id": "JtPDb5U2fuzU",
        "outputId": "963709a4-e553-4ba5-ec98-7eae669c9650"
      },
      "source": [
        "import pathlib\n",
        "import numpy as np\n",
        "\n",
        "data_dir = pathlib.Path(\"totalDataset01\")\n",
        "class_names = np.array(\n",
        "    sorted(\n",
        "        [item.name for item in data_dir.glob(\"*\")]\n",
        "    )\n",
        ")\n",
        "\n",
        "print(class_names)"
      ],
      "execution_count": 67,
      "outputs": [
        {
          "output_type": "stream",
          "text": [
            "['%' '*' '+' '-' '0' '1' '2' '3' '4' '5' '6' '7' '8' '9']\n"
          ],
          "name": "stdout"
        }
      ]
    },
    {
      "cell_type": "code",
      "metadata": {
        "id": "fjRhERUVfypD",
        "colab": {
          "base_uri": "https://localhost:8080/"
        },
        "outputId": "a3f197fe-435f-44e9-e883-3a3b3634204c"
      },
      "source": [
        "import os\n",
        "\n",
        "for dirpath, dirnames, filenames in os.walk(\"totalDataset01\"):\n",
        "    print(f\"{len(dirnames)}개의 디렉토리가 있으며, '{dirpath}'에는 {len(filenames)}개의 이미지가 있다.\")"
      ],
      "execution_count": 71,
      "outputs": [
        {
          "output_type": "stream",
          "text": [
            "14개의 디렉토리가 있으며, 'totalDataset01'에는 0개의 이미지가 있다.\n",
            "0개의 디렉토리가 있으며, 'totalDataset01/1'에는 20947개의 이미지가 있다.\n",
            "0개의 디렉토리가 있으며, 'totalDataset01/4'에는 22216개의 이미지가 있다.\n",
            "0개의 디렉토리가 있으며, 'totalDataset01/7'에는 20279개의 이미지가 있다.\n",
            "0개의 디렉토리가 있으며, 'totalDataset01/-'에는 21962개의 이미지가 있다.\n",
            "0개의 디렉토리가 있으며, 'totalDataset01/3'에는 22303개의 이미지가 있다.\n",
            "0개의 디렉토리가 있으며, 'totalDataset01/8'에는 21191개의 이미지가 있다.\n",
            "0개의 디렉토리가 있으며, 'totalDataset01/5'에는 21124개의 이미지가 있다.\n",
            "0개의 디렉토리가 있으며, 'totalDataset01/6'에는 21182개의 이미지가 있다.\n",
            "0개의 디렉토리가 있으며, 'totalDataset01/+'에는 22682개의 이미지가 있다.\n",
            "0개의 디렉토리가 있으며, 'totalDataset01/2'에는 20971개의 이미지가 있다.\n",
            "0개의 디렉토리가 있으며, 'totalDataset01/0'에는 20845개의 이미지가 있다.\n",
            "0개의 디렉토리가 있으며, 'totalDataset01/9'에는 20995개의 이미지가 있다.\n",
            "0개의 디렉토리가 있으며, 'totalDataset01/*'에는 20899개의 이미지가 있다.\n",
            "0개의 디렉토리가 있으며, 'totalDataset01/%'에는 24783개의 이미지가 있다.\n"
          ],
          "name": "stdout"
        }
      ]
    },
    {
      "cell_type": "markdown",
      "metadata": {
        "id": "cPU-JXLWLPpg"
      },
      "source": [
        "## 데이터 전처리"
      ]
    },
    {
      "cell_type": "code",
      "metadata": {
        "colab": {
          "base_uri": "https://localhost:8080/"
        },
        "id": "MYqWfjW1fzpQ",
        "outputId": "a4d02202-bbdc-4890-ad6d-e935c6937d3d"
      },
      "source": [
        "train_datagen = ImageDataGenerator(\n",
        "    rescale = 1./255, # 값범위 \n",
        "    # 이미지 augmentation\n",
        "    shear_range = 0.2, # shear\n",
        "    zoom_range = 0.1, # zoom\n",
        "    brightness_range=(0.5, 1.5), # 밝기\n",
        "    fill_mode='nearest', # 축소시 여백 nearest\n",
        "    validation_split = 0.2\n",
        ")\n",
        "\n",
        "data_path='/content/totalDataset01'\n",
        "train_set = train_datagen.flow_from_directory(\n",
        "    data_path, \n",
        "    target_size = (40, 40), \n",
        "    color_mode = 'grayscale',\n",
        "    batch_size = 256, # 32 -> 100\n",
        "    class_mode = 'categorical',\n",
        "    shuffle = True,\n",
        "    subset='training',\n",
        "    seed = 123\n",
        ")\n",
        "valid_set = train_datagen.flow_from_directory(\n",
        "    data_path, \n",
        "    target_size = (40, 40), \n",
        "    color_mode = 'grayscale',\n",
        "    batch_size = 256, # 32 -> 100 -> 256\n",
        "    class_mode = 'categorical',\n",
        "    shuffle = True,\n",
        "    subset='validation',\n",
        "    seed = 123\n",
        ")"
      ],
      "execution_count": 36,
      "outputs": [
        {
          "output_type": "stream",
          "text": [
            "Found 241909 images belonging to 14 classes.\n",
            "Found 60469 images belonging to 14 classes.\n"
          ],
          "name": "stdout"
        }
      ]
    },
    {
      "cell_type": "markdown",
      "metadata": {
        "id": "0IK7I1wwLUax"
      },
      "source": [
        "## Checkpoint 설정"
      ]
    },
    {
      "cell_type": "code",
      "metadata": {
        "id": "jlDhjqsgf1x0"
      },
      "source": [
        "checkpoint_path = \"model_6_checkpoint/cp.ckpt\"\n",
        "model_6_checkpoint = tf.keras.callbacks.ModelCheckpoint(\n",
        "    checkpoint_path,\n",
        "    monitor = \"val_accuracy\",\n",
        "    save_best_only = True,\n",
        "    save_weight_only = True,\n",
        "    verbose = 1\n",
        ")"
      ],
      "execution_count": 37,
      "outputs": []
    },
    {
      "cell_type": "markdown",
      "metadata": {
        "id": "KwaW-8a_LXfy"
      },
      "source": [
        "## CNN 모델 생성 및 컴파일"
      ]
    },
    {
      "cell_type": "code",
      "metadata": {
        "id": "QN1OCbSWf3-U"
      },
      "source": [
        "# CNN 모델 생성\n",
        "\n",
        "model_6 = tf.keras.models.Sequential([\n",
        "    tf.keras.layers.Conv2D(\n",
        "        filters = 32,\n",
        "        kernel_size = 3, # (3, 3) \n",
        "        activation = \"relu\",\n",
        "        input_shape = (40, 40, 1) # (이미지의 높이, 이미지의 너비, 컬러채널) \n",
        "    ),\n",
        "    tf.keras.layers.MaxPool2D(\n",
        "        pool_size = 2,  # (2, 2)\n",
        "        padding = \"valid\"\n",
        "    ),\n",
        "    tf.keras.layers.Conv2D(64, 3, activation='relu'), # 렐루는 그레디언트가 영원히 줄지 않는다.\n",
        "    tf.keras.layers.MaxPool2D(2),\n",
        "    tf.keras.layers.Conv2D(64, 3, activation='relu'), \n",
        "    tf.keras.layers.MaxPool2D(2),\n",
        "    tf.keras.layers.Flatten(),\n",
        "    tf.keras.layers.Dense(128, activation=\"relu\"),\n",
        "    tf.keras.layers.Dropout(0.2),\n",
        "    tf.keras.layers.Dense(64, activation=\"relu\"),\n",
        "    tf.keras.layers.Dense(14, activation=\"softmax\") # classifier\n",
        "])"
      ],
      "execution_count": 38,
      "outputs": []
    },
    {
      "cell_type": "code",
      "metadata": {
        "colab": {
          "base_uri": "https://localhost:8080/"
        },
        "id": "MoSXV5SWf5VR",
        "outputId": "eaddad7d-e380-4d5a-ea5e-4a6b8e1e45a0"
      },
      "source": [
        "# 모델 컴파일\n",
        "\n",
        "model_6.compile(\n",
        "    loss = \"categorical_crossentropy\", # cross ntropy 오차 함수 사용 그레티언드 (배니싱현상)\n",
        "    optimizer = tf.keras.optimizers.Adam(lr = 5e-4),\n",
        "    metrics = [\"accuracy\"]\n",
        ")"
      ],
      "execution_count": 39,
      "outputs": [
        {
          "output_type": "stream",
          "text": [
            "/usr/local/lib/python3.7/dist-packages/tensorflow/python/keras/optimizer_v2/optimizer_v2.py:375: UserWarning: The `lr` argument is deprecated, use `learning_rate` instead.\n",
            "  \"The `lr` argument is deprecated, use `learning_rate` instead.\")\n"
          ],
          "name": "stderr"
        }
      ]
    },
    {
      "cell_type": "markdown",
      "metadata": {
        "id": "NEMSfm16LhNn"
      },
      "source": [
        "## Model fitting"
      ]
    },
    {
      "cell_type": "code",
      "metadata": {
        "colab": {
          "base_uri": "https://localhost:8080/"
        },
        "id": "Ctailany0-Vr",
        "outputId": "a4e4fbda-494f-4c90-a3ac-8661677a640f"
      },
      "source": [
        "history_6 = model_6.fit(\n",
        "    train_set,\n",
        "    epochs = 20,\n",
        "    steps_per_epoch = len(train_set),\n",
        "    validation_data = valid_set,\n",
        "    validation_steps = len(valid_set),\n",
        "    callbacks = [\n",
        "                 create_tensorboard_callback(\"train_log\", \"handwritten_model_6\"),\n",
        "                 model_6_checkpoint\n",
        "                ]\n",
        ")"
      ],
      "execution_count": 44,
      "outputs": [
        {
          "output_type": "stream",
          "text": [
            "TensorBoard 로그 파일을 저장한 디렉토리 : train_log/handwritten_model_6/20210712-164217\n",
            "Epoch 1/20\n",
            "945/945 [==============================] - 181s 191ms/step - loss: 0.0938 - accuracy: 0.9678 - val_loss: 0.2070 - val_accuracy: 0.9383\n",
            "\n",
            "Epoch 00001: val_accuracy did not improve from 0.94108\n",
            "Epoch 2/20\n",
            "945/945 [==============================] - 187s 198ms/step - loss: 0.0899 - accuracy: 0.9694 - val_loss: 0.2095 - val_accuracy: 0.9396\n",
            "\n",
            "Epoch 00002: val_accuracy did not improve from 0.94108\n",
            "Epoch 3/20\n",
            "945/945 [==============================] - 181s 192ms/step - loss: 0.0850 - accuracy: 0.9706 - val_loss: 0.1914 - val_accuracy: 0.9460\n",
            "\n",
            "Epoch 00003: val_accuracy improved from 0.94108 to 0.94597, saving model to model_6_checkpoint/cp.ckpt\n",
            "INFO:tensorflow:Assets written to: model_6_checkpoint/cp.ckpt/assets\n",
            "Epoch 4/20\n",
            "945/945 [==============================] - 185s 195ms/step - loss: 0.0815 - accuracy: 0.9719 - val_loss: 0.1959 - val_accuracy: 0.9465\n",
            "\n",
            "Epoch 00004: val_accuracy improved from 0.94597 to 0.94648, saving model to model_6_checkpoint/cp.ckpt\n",
            "INFO:tensorflow:Assets written to: model_6_checkpoint/cp.ckpt/assets\n",
            "Epoch 5/20\n",
            "945/945 [==============================] - 184s 194ms/step - loss: 0.0778 - accuracy: 0.9730 - val_loss: 0.1890 - val_accuracy: 0.9473\n",
            "\n",
            "Epoch 00005: val_accuracy improved from 0.94648 to 0.94731, saving model to model_6_checkpoint/cp.ckpt\n",
            "INFO:tensorflow:Assets written to: model_6_checkpoint/cp.ckpt/assets\n",
            "Epoch 6/20\n",
            "945/945 [==============================] - 183s 194ms/step - loss: 0.0746 - accuracy: 0.9738 - val_loss: 0.1875 - val_accuracy: 0.9464\n",
            "\n",
            "Epoch 00006: val_accuracy did not improve from 0.94731\n",
            "Epoch 7/20\n",
            "945/945 [==============================] - 182s 193ms/step - loss: 0.0730 - accuracy: 0.9743 - val_loss: 0.1794 - val_accuracy: 0.9500\n",
            "\n",
            "Epoch 00007: val_accuracy improved from 0.94731 to 0.95001, saving model to model_6_checkpoint/cp.ckpt\n",
            "INFO:tensorflow:Assets written to: model_6_checkpoint/cp.ckpt/assets\n",
            "Epoch 8/20\n",
            "945/945 [==============================] - 182s 193ms/step - loss: 0.0692 - accuracy: 0.9758 - val_loss: 0.1838 - val_accuracy: 0.9499\n",
            "\n",
            "Epoch 00008: val_accuracy did not improve from 0.95001\n",
            "Epoch 9/20\n",
            "945/945 [==============================] - 182s 193ms/step - loss: 0.0669 - accuracy: 0.9765 - val_loss: 0.1853 - val_accuracy: 0.9510\n",
            "\n",
            "Epoch 00009: val_accuracy improved from 0.95001 to 0.95103, saving model to model_6_checkpoint/cp.ckpt\n",
            "INFO:tensorflow:Assets written to: model_6_checkpoint/cp.ckpt/assets\n",
            "Epoch 10/20\n",
            "945/945 [==============================] - 181s 192ms/step - loss: 0.0651 - accuracy: 0.9770 - val_loss: 0.1935 - val_accuracy: 0.9487\n",
            "\n",
            "Epoch 00010: val_accuracy did not improve from 0.95103\n",
            "Epoch 11/20\n",
            "945/945 [==============================] - 180s 191ms/step - loss: 0.0636 - accuracy: 0.9777 - val_loss: 0.2107 - val_accuracy: 0.9449\n",
            "\n",
            "Epoch 00011: val_accuracy did not improve from 0.95103\n",
            "Epoch 12/20\n",
            "945/945 [==============================] - 180s 190ms/step - loss: 0.0627 - accuracy: 0.9779 - val_loss: 0.1805 - val_accuracy: 0.9503\n",
            "\n",
            "Epoch 00012: val_accuracy did not improve from 0.95103\n",
            "Epoch 13/20\n",
            "945/945 [==============================] - 179s 189ms/step - loss: 0.0612 - accuracy: 0.9786 - val_loss: 0.1963 - val_accuracy: 0.9511\n",
            "\n",
            "Epoch 00013: val_accuracy improved from 0.95103 to 0.95110, saving model to model_6_checkpoint/cp.ckpt\n",
            "INFO:tensorflow:Assets written to: model_6_checkpoint/cp.ckpt/assets\n",
            "Epoch 14/20\n",
            "945/945 [==============================] - 179s 190ms/step - loss: 0.0588 - accuracy: 0.9794 - val_loss: 0.1736 - val_accuracy: 0.9522\n",
            "\n",
            "Epoch 00014: val_accuracy improved from 0.95110 to 0.95222, saving model to model_6_checkpoint/cp.ckpt\n",
            "INFO:tensorflow:Assets written to: model_6_checkpoint/cp.ckpt/assets\n",
            "Epoch 15/20\n",
            "945/945 [==============================] - 179s 190ms/step - loss: 0.0578 - accuracy: 0.9794 - val_loss: 0.1906 - val_accuracy: 0.9490\n",
            "\n",
            "Epoch 00015: val_accuracy did not improve from 0.95222\n",
            "Epoch 16/20\n",
            "945/945 [==============================] - 179s 190ms/step - loss: 0.0557 - accuracy: 0.9804 - val_loss: 0.1863 - val_accuracy: 0.9511\n",
            "\n",
            "Epoch 00016: val_accuracy did not improve from 0.95222\n",
            "Epoch 17/20\n",
            "945/945 [==============================] - 180s 190ms/step - loss: 0.0534 - accuracy: 0.9806 - val_loss: 0.2084 - val_accuracy: 0.9478\n",
            "\n",
            "Epoch 00017: val_accuracy did not improve from 0.95222\n",
            "Epoch 18/20\n",
            "945/945 [==============================] - 179s 190ms/step - loss: 0.0525 - accuracy: 0.9810 - val_loss: 0.1892 - val_accuracy: 0.9523\n",
            "\n",
            "Epoch 00018: val_accuracy improved from 0.95222 to 0.95229, saving model to model_6_checkpoint/cp.ckpt\n",
            "INFO:tensorflow:Assets written to: model_6_checkpoint/cp.ckpt/assets\n",
            "Epoch 19/20\n",
            "945/945 [==============================] - 179s 190ms/step - loss: 0.0516 - accuracy: 0.9816 - val_loss: 0.1946 - val_accuracy: 0.9524\n",
            "\n",
            "Epoch 00019: val_accuracy improved from 0.95229 to 0.95242, saving model to model_6_checkpoint/cp.ckpt\n",
            "INFO:tensorflow:Assets written to: model_6_checkpoint/cp.ckpt/assets\n",
            "Epoch 20/20\n",
            "945/945 [==============================] - 180s 190ms/step - loss: 0.0513 - accuracy: 0.9813 - val_loss: 0.1775 - val_accuracy: 0.9528\n",
            "\n",
            "Epoch 00020: val_accuracy improved from 0.95242 to 0.95279, saving model to model_6_checkpoint/cp.ckpt\n",
            "INFO:tensorflow:Assets written to: model_6_checkpoint/cp.ckpt/assets\n"
          ],
          "name": "stdout"
        }
      ]
    },
    {
      "cell_type": "markdown",
      "metadata": {
        "id": "ZEt5Ccb6LoQE"
      },
      "source": [
        "## 검증"
      ]
    },
    {
      "cell_type": "code",
      "metadata": {
        "id": "-ljV9gLsf8LY",
        "colab": {
          "base_uri": "https://localhost:8080/"
        },
        "outputId": "cfd8f419-00da-47c0-c85f-9d27c78fd415"
      },
      "source": [
        "val_loss, val_accuracy = model_6.evaluate(valid_set)\n",
        "print(val_loss,val_accuracy)"
      ],
      "execution_count": 45,
      "outputs": [
        {
          "output_type": "stream",
          "text": [
            "237/237 [==============================] - 36s 151ms/step - loss: 0.1791 - accuracy: 0.9531\n",
            "0.1790807545185089 0.9531164765357971\n"
          ],
          "name": "stdout"
        }
      ]
    },
    {
      "cell_type": "markdown",
      "metadata": {
        "id": "mXzCjvzuLp-6"
      },
      "source": [
        "## Summary"
      ]
    },
    {
      "cell_type": "code",
      "metadata": {
        "id": "BzvhsgfBFjNd",
        "colab": {
          "base_uri": "https://localhost:8080/"
        },
        "outputId": "1604e207-1140-4418-d707-316e109e05a2"
      },
      "source": [
        "model_6.summary()"
      ],
      "execution_count": 42,
      "outputs": [
        {
          "output_type": "stream",
          "text": [
            "Model: \"sequential_1\"\n",
            "_________________________________________________________________\n",
            "Layer (type)                 Output Shape              Param #   \n",
            "=================================================================\n",
            "conv2d_3 (Conv2D)            (None, 38, 38, 32)        320       \n",
            "_________________________________________________________________\n",
            "max_pooling2d_3 (MaxPooling2 (None, 19, 19, 32)        0         \n",
            "_________________________________________________________________\n",
            "conv2d_4 (Conv2D)            (None, 17, 17, 64)        18496     \n",
            "_________________________________________________________________\n",
            "max_pooling2d_4 (MaxPooling2 (None, 8, 8, 64)          0         \n",
            "_________________________________________________________________\n",
            "conv2d_5 (Conv2D)            (None, 6, 6, 64)          36928     \n",
            "_________________________________________________________________\n",
            "max_pooling2d_5 (MaxPooling2 (None, 3, 3, 64)          0         \n",
            "_________________________________________________________________\n",
            "flatten_1 (Flatten)          (None, 576)               0         \n",
            "_________________________________________________________________\n",
            "dense_3 (Dense)              (None, 128)               73856     \n",
            "_________________________________________________________________\n",
            "dropout_1 (Dropout)          (None, 128)               0         \n",
            "_________________________________________________________________\n",
            "dense_4 (Dense)              (None, 64)                8256      \n",
            "_________________________________________________________________\n",
            "dense_5 (Dense)              (None, 14)                910       \n",
            "=================================================================\n",
            "Total params: 138,766\n",
            "Trainable params: 138,766\n",
            "Non-trainable params: 0\n",
            "_________________________________________________________________\n"
          ],
          "name": "stdout"
        }
      ]
    },
    {
      "cell_type": "markdown",
      "metadata": {
        "id": "4swbY9xZLtGU"
      },
      "source": [
        "## 학습상태 확인"
      ]
    },
    {
      "cell_type": "code",
      "metadata": {
        "id": "Yz9ygMySpPUs",
        "colab": {
          "base_uri": "https://localhost:8080/",
          "height": 573
        },
        "outputId": "703f506f-d55e-466e-f702-6bb183bdd5ad"
      },
      "source": [
        "plot_loss_curves(history_6)"
      ],
      "execution_count": 43,
      "outputs": [
        {
          "output_type": "display_data",
          "data": {
            "image/png": "[encoded data removed]",
            "text/plain": [
              "<Figure size 432x288 with 1 Axes>"
            ]
          },
          "metadata": {
            "tags": [],
            "needs_background": "light"
          }
        },
        {
          "output_type": "display_data",
          "data": {
            "image/png": "[encoded data removed]",
            "text/plain": [
              "<Figure size 432x288 with 1 Axes>"
            ]
          },
          "metadata": {
            "tags": [],
            "needs_background": "light"
          }
        }
      ]
    },
    {
      "cell_type": "markdown",
      "metadata": {
        "id": "8jqOeYtXLve1"
      },
      "source": [
        "## 모델 저장"
      ]
    },
    {
      "cell_type": "code",
      "metadata": {
        "id": "rPrUpZ9gHFL4",
        "colab": {
          "base_uri": "https://localhost:8080/"
        },
        "outputId": "aec40a5e-7359-4c1a-bbaf-72e2ceb99f68"
      },
      "source": [
        "# #  모델 저장\n",
        "# model_6.save('/Users/sangjulee1/desktop/HandwrittenCalc_acc_0.9531.H5')"
      ],
      "execution_count": 72,
      "outputs": [
        {
          "output_type": "stream",
          "text": [
            "INFO:tensorflow:Assets written to: /Users/sangjulee1/desktop/HandwrittenCalc_acc_0.9531.H5/assets\n"
          ],
          "name": "stdout"
        }
      ]
    },
    {
      "cell_type": "code",
      "metadata": {
        "id": "MS55ah5tWFSy",
        "colab": {
          "base_uri": "https://localhost:8080/"
        },
        "outputId": "439eb95d-1201-4e74-c6e8-eecd438f280f"
      },
      "source": [
        "# from google.colab import drive\n",
        "# drive.mount('/content/drive')"
      ],
      "execution_count": 48,
      "outputs": [
        {
          "output_type": "stream",
          "text": [
            "Mounted at /content/drive\n"
          ],
          "name": "stdout"
        }
      ]
    },
    {
      "cell_type": "code",
      "metadata": {
        "id": "fQx06QTJ7AHZ"
      },
      "source": [],
      "execution_count": null,
      "outputs": []
    }
  ]
}