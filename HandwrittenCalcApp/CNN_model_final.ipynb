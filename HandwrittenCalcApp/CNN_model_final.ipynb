{
  "nbformat": 4,
  "nbformat_minor": 0,
  "metadata": {
    "colab": {
      "name": "CNN_model_final01.ipynb",
      "provenance": [],
      "collapsed_sections": []
    },
    "kernelspec": {
      "name": "python3",
      "display_name": "Python 3"
    },
    "language_info": {
      "name": "python"
    }
  },
  "cells": [
    {
      "cell_type": "code",
      "metadata": {
        "colab": {
          "base_uri": "https://localhost:8080/"
        },
        "id": "SVzf3RYIfGys",
        "outputId": "c26db4eb-63ca-4422-e448-e80bc242898b"
      },
      "source": [
        "!nvidia-smi -L"
      ],
      "execution_count": 1,
      "outputs": [
        {
          "output_type": "stream",
          "text": [
            "GPU 0: Tesla K80 (UUID: GPU-a8de01e6-2323-f49a-5cf3-27f1982cc0f6)\n"
          ],
          "name": "stdout"
        }
      ]
    },
    {
      "cell_type": "markdown",
      "metadata": {
        "id": "4ialnmZ_KwpS"
      },
      "source": [
        "# HandwrittenCalc"
      ]
    },
    {
      "cell_type": "code",
      "metadata": {
        "id": "80W7WmzefKzO"
      },
      "source": [
        "# !pip install imutils\n",
        "\n",
        "import numpy as np \n",
        "import pandas as pd\n",
        "import cv2\n",
        "import tensorflow as tf\n",
        "import matplotlib.pyplot as plt\n",
        "%matplotlib inline\n",
        "from imutils.contours import sort_contours\n",
        "import imutils"
      ],
      "execution_count": 2,
      "outputs": []
    },
    {
      "cell_type": "code",
      "metadata": {
        "id": "Lq18oMLvfQnq"
      },
      "source": [
        "from keras.models import Sequential\n",
        "from keras.layers import Conv2D\n",
        "from keras.layers import MaxPooling2D\n",
        "from keras.layers import Dense\n",
        "from keras.layers import Flatten\n",
        "from keras.optimizers import SGD\n",
        "from keras.preprocessing.image import ImageDataGenerator\n",
        "import os"
      ],
      "execution_count": 3,
      "outputs": []
    },
    {
      "cell_type": "code",
      "metadata": {
        "id": "BwyxiJOUfRxQ"
      },
      "source": [
        "from helper_functions import unzip_data, walk_through_dir, create_tensorboard_callback, plot_loss_curves"
      ],
      "execution_count": 4,
      "outputs": []
    },
    {
      "cell_type": "code",
      "metadata": {
        "id": "fF5iukwDfS4t"
      },
      "source": [
        "unzip_data(\"new_totalDataset01.zip\")"
      ],
      "execution_count": 5,
      "outputs": []
    },
    {
      "cell_type": "markdown",
      "metadata": {
        "id": "otnB_Yi-LFOh"
      },
      "source": [
        "### 데이터 확인"
      ]
    },
    {
      "cell_type": "code",
      "metadata": {
        "colab": {
          "base_uri": "https://localhost:8080/"
        },
        "id": "JtPDb5U2fuzU",
        "outputId": "c6e734d4-4fa6-4d16-e2ce-37f4231659aa"
      },
      "source": [
        "import pathlib\n",
        "import numpy as np\n",
        "\n",
        "data_dir = pathlib.Path(\"new_totalDataset01\")\n",
        "class_names = np.array(\n",
        "    sorted(\n",
        "        [item.name for item in data_dir.glob(\"*\")]\n",
        "    )\n",
        ")\n",
        "\n",
        "print(class_names)"
      ],
      "execution_count": 6,
      "outputs": [
        {
          "output_type": "stream",
          "text": [
            "['%' '*' '+' '-' '.DS_Store' '0' '1' '2' '3' '4' '5' '6' '7' '8' '9']\n"
          ],
          "name": "stdout"
        }
      ]
    },
    {
      "cell_type": "code",
      "metadata": {
        "id": "fjRhERUVfypD",
        "colab": {
          "base_uri": "https://localhost:8080/"
        },
        "outputId": "a4f51f85-32dd-4ac2-93fd-f6f0fcd506ec"
      },
      "source": [
        "import os\n",
        "\n",
        "for dirpath, dirnames, filenames in os.walk(\"new_totalDataset01\"):\n",
        "    print(f\"{len(dirnames)}개의 디렉토리가 있으며, '{dirpath}'에는 {len(filenames)}개의 이미지가 있다.\")"
      ],
      "execution_count": 7,
      "outputs": [
        {
          "output_type": "stream",
          "text": [
            "14개의 디렉토리가 있으며, 'new_totalDataset01'에는 1개의 이미지가 있다.\n",
            "0개의 디렉토리가 있으며, 'new_totalDataset01/3'에는 22209개의 이미지가 있다.\n",
            "0개의 디렉토리가 있으며, 'new_totalDataset01/*'에는 20721개의 이미지가 있다.\n",
            "0개의 디렉토리가 있으며, 'new_totalDataset01/+'에는 22031개의 이미지가 있다.\n",
            "0개의 디렉토리가 있으며, 'new_totalDataset01/4'에는 18819개의 이미지가 있다.\n",
            "0개의 디렉토리가 있으며, 'new_totalDataset01/9'에는 18392개의 이미지가 있다.\n",
            "0개의 디렉토리가 있으며, 'new_totalDataset01/8'에는 20838개의 이미지가 있다.\n",
            "0개의 디렉토리가 있으며, 'new_totalDataset01/2'에는 20852개의 이미지가 있다.\n",
            "0개의 디렉토리가 있으며, 'new_totalDataset01/0'에는 20845개의 이미지가 있다.\n",
            "0개의 디렉토리가 있으며, 'new_totalDataset01/6'에는 19485개의 이미지가 있다.\n",
            "0개의 디렉토리가 있으며, 'new_totalDataset01/-'에는 21946개의 이미지가 있다.\n",
            "0개의 디렉토리가 있으며, 'new_totalDataset01/5'에는 20090개의 이미지가 있다.\n",
            "0개의 디렉토리가 있으며, 'new_totalDataset01/7'에는 20217개의 이미지가 있다.\n",
            "0개의 디렉토리가 있으며, 'new_totalDataset01/%'에는 24030개의 이미지가 있다.\n",
            "0개의 디렉토리가 있으며, 'new_totalDataset01/1'에는 20435개의 이미지가 있다.\n"
          ],
          "name": "stdout"
        }
      ]
    },
    {
      "cell_type": "markdown",
      "metadata": {
        "id": "cPU-JXLWLPpg"
      },
      "source": [
        "## 데이터 전처리"
      ]
    },
    {
      "cell_type": "code",
      "metadata": {
        "colab": {
          "base_uri": "https://localhost:8080/"
        },
        "id": "MYqWfjW1fzpQ",
        "outputId": "59ecf11d-585c-4335-a448-b8ae18ce7a38"
      },
      "source": [
        "# train_datagen = ImageDataGenerator(\n",
        "#     rescale = 1./255, # 값범위 \n",
        "#     # 이미지 augmentation\n",
        "#     # shear_range = 0.1, # shear\n",
        "#     zoom_range = 0.1, # zoom\n",
        "#     brightness_range=(0.5, 1.5), # 밝기\n",
        "#     fill_mode='nearest', # 축소시 여백 nearest\n",
        "#     validation_split = 0.2\n",
        "# )\n",
        "train_datagen = ImageDataGenerator(\n",
        "    rescale = 1./255,\n",
        "    validation_split = 0.2\n",
        "    )\n",
        "\n",
        "data_path='/content/new_totalDataset01'\n",
        "train_set = train_datagen.flow_from_directory(\n",
        "    data_path, \n",
        "    target_size = (40, 40), \n",
        "    color_mode = 'grayscale',\n",
        "    batch_size = 256, # 32 -> 100 -> 256\n",
        "    class_mode = 'categorical',\n",
        "    shuffle = True,\n",
        "    subset='training',\n",
        "    seed = 123\n",
        ")\n",
        "valid_set = train_datagen.flow_from_directory(\n",
        "    data_path, \n",
        "    target_size = (40, 40), \n",
        "    color_mode = 'grayscale',\n",
        "    batch_size = 256, # 32 -> 100 -> 256\n",
        "    class_mode = 'categorical',\n",
        "    shuffle = True,\n",
        "    subset='validation',\n",
        "    seed = 123\n",
        ")"
      ],
      "execution_count": 8,
      "outputs": [
        {
          "output_type": "stream",
          "text": [
            "Found 232722 images belonging to 14 classes.\n",
            "Found 58174 images belonging to 14 classes.\n"
          ],
          "name": "stdout"
        }
      ]
    },
    {
      "cell_type": "markdown",
      "metadata": {
        "id": "0IK7I1wwLUax"
      },
      "source": [
        "## Checkpoint 설정"
      ]
    },
    {
      "cell_type": "code",
      "metadata": {
        "id": "jlDhjqsgf1x0"
      },
      "source": [
        "checkpoint_path = \"model_8_checkpoint/cp.ckpt\"\n",
        "model_8_checkpoint = tf.keras.callbacks.ModelCheckpoint(\n",
        "    checkpoint_path,\n",
        "    monitor = \"val_accuracy\",\n",
        "    save_best_only = True,\n",
        "    save_weight_only = True,\n",
        "    verbose = 1\n",
        ")"
      ],
      "execution_count": 9,
      "outputs": []
    },
    {
      "cell_type": "markdown",
      "metadata": {
        "id": "KwaW-8a_LXfy"
      },
      "source": [
        "## CNN 모델 생성 및 컴파일"
      ]
    },
    {
      "cell_type": "code",
      "metadata": {
        "id": "QN1OCbSWf3-U"
      },
      "source": [
        "# CNN 모델 생성\n",
        "\n",
        "model_8 = tf.keras.models.Sequential([\n",
        "    tf.keras.layers.Conv2D(\n",
        "        filters = 32,\n",
        "        kernel_size = 3, # (3, 3) \n",
        "        activation = \"relu\",\n",
        "        input_shape = (40, 40, 1) # (이미지의 높이, 이미지의 너비, 컬러채널) \n",
        "    ),\n",
        "    tf.keras.layers.MaxPool2D(\n",
        "        pool_size = 2,  # (2, 2)\n",
        "        padding = \"valid\"\n",
        "    ),\n",
        "    tf.keras.layers.Conv2D(64, 3, activation='relu'), # 렐루는 그레디언트가 영원히 줄지 않는다.\n",
        "    tf.keras.layers.MaxPool2D(2),\n",
        "    tf.keras.layers.Conv2D(64, 3, activation='relu'), # 추가02 필터\n",
        "    tf.keras.layers.MaxPool2D(2), # 추가02\n",
        "    tf.keras.layers.Flatten(),\n",
        "    tf.keras.layers.Dense(128, activation=\"relu\"),\n",
        "    tf.keras.layers.Dropout(0.2), # 추가03\n",
        "    tf.keras.layers.Dense(64, activation=\"relu\"), # 추가01 layer\n",
        "    # tf.keras.layers.Dropout(0.2), # 추가04\n",
        "    tf.keras.layers.Dense(64, activation=\"relu\"), # 추가04 layer\n",
        "    tf.keras.layers.Dense(14, activation=\"softmax\") # classifier\n",
        "])"
      ],
      "execution_count": 10,
      "outputs": []
    },
    {
      "cell_type": "code",
      "metadata": {
        "id": "MoSXV5SWf5VR"
      },
      "source": [
        "# 모델 컴파일\n",
        "\n",
        "model_8.compile(\n",
        "    loss = \"categorical_crossentropy\", # cross ntropy 오차 함수 사용 그레티언드 (배니싱현상) # 변경 : Categorical_crossentropy -> Sparse_categorical_crossentropy\n",
        "    optimizer = tf.keras.optimizers.Adam(learning_rate = 5e-4), # 0.0005 5e-4\n",
        "    metrics = [\"accuracy\"]\n",
        ")"
      ],
      "execution_count": 11,
      "outputs": []
    },
    {
      "cell_type": "markdown",
      "metadata": {
        "id": "NEMSfm16LhNn"
      },
      "source": [
        "## Model fitting"
      ]
    },
    {
      "cell_type": "code",
      "metadata": {
        "colab": {
          "base_uri": "https://localhost:8080/"
        },
        "id": "Ctailany0-Vr",
        "outputId": "006cb0b3-3478-4e25-c5b6-1b308e9beb75"
      },
      "source": [
        "history_8 = model_8.fit(\n",
        "    train_set,\n",
        "    epochs = 20,\n",
        "    steps_per_epoch = len(train_set),\n",
        "    validation_data = valid_set,\n",
        "    validation_steps = len(valid_set),\n",
        "    callbacks = [\n",
        "                 create_tensorboard_callback(\"train_log\", \"handwritten_model_8\"),\n",
        "                 model_8_checkpoint\n",
        "                ]\n",
        ")"
      ],
      "execution_count": 12,
      "outputs": [
        {
          "output_type": "stream",
          "text": [
            "TensorBoard 로그 파일을 저장한 디렉토리 : train_log/handwritten_model_8/20210719-085924\n",
            "Epoch 1/20\n",
            "910/910 [==============================] - 143s 125ms/step - loss: 0.5885 - accuracy: 0.8130 - val_loss: 0.3247 - val_accuracy: 0.9016\n",
            "\n",
            "Epoch 00001: val_accuracy improved from -inf to 0.90159, saving model to model_8_checkpoint/cp.ckpt\n",
            "INFO:tensorflow:Assets written to: model_8_checkpoint/cp.ckpt/assets\n",
            "Epoch 2/20\n",
            "910/910 [==============================] - 95s 104ms/step - loss: 0.1931 - accuracy: 0.9382 - val_loss: 0.2505 - val_accuracy: 0.9208\n",
            "\n",
            "Epoch 00002: val_accuracy improved from 0.90159 to 0.92077, saving model to model_8_checkpoint/cp.ckpt\n",
            "INFO:tensorflow:Assets written to: model_8_checkpoint/cp.ckpt/assets\n",
            "Epoch 3/20\n",
            "910/910 [==============================] - 92s 101ms/step - loss: 0.1396 - accuracy: 0.9545 - val_loss: 0.2031 - val_accuracy: 0.9358\n",
            "\n",
            "Epoch 00003: val_accuracy improved from 0.92077 to 0.93576, saving model to model_8_checkpoint/cp.ckpt\n",
            "INFO:tensorflow:Assets written to: model_8_checkpoint/cp.ckpt/assets\n",
            "Epoch 4/20\n",
            "910/910 [==============================] - 92s 102ms/step - loss: 0.1121 - accuracy: 0.9628 - val_loss: 0.2060 - val_accuracy: 0.9359\n",
            "\n",
            "Epoch 00004: val_accuracy improved from 0.93576 to 0.93588, saving model to model_8_checkpoint/cp.ckpt\n",
            "INFO:tensorflow:Assets written to: model_8_checkpoint/cp.ckpt/assets\n",
            "Epoch 5/20\n",
            "910/910 [==============================] - 92s 102ms/step - loss: 0.0924 - accuracy: 0.9692 - val_loss: 0.1729 - val_accuracy: 0.9453\n",
            "\n",
            "Epoch 00005: val_accuracy improved from 0.93588 to 0.94527, saving model to model_8_checkpoint/cp.ckpt\n",
            "INFO:tensorflow:Assets written to: model_8_checkpoint/cp.ckpt/assets\n",
            "Epoch 6/20\n",
            "910/910 [==============================] - 94s 104ms/step - loss: 0.0798 - accuracy: 0.9728 - val_loss: 0.1649 - val_accuracy: 0.9490\n",
            "\n",
            "Epoch 00006: val_accuracy improved from 0.94527 to 0.94898, saving model to model_8_checkpoint/cp.ckpt\n",
            "INFO:tensorflow:Assets written to: model_8_checkpoint/cp.ckpt/assets\n",
            "Epoch 7/20\n",
            "910/910 [==============================] - 95s 104ms/step - loss: 0.0720 - accuracy: 0.9754 - val_loss: 0.1612 - val_accuracy: 0.9513\n",
            "\n",
            "Epoch 00007: val_accuracy improved from 0.94898 to 0.95132, saving model to model_8_checkpoint/cp.ckpt\n",
            "INFO:tensorflow:Assets written to: model_8_checkpoint/cp.ckpt/assets\n",
            "Epoch 8/20\n",
            "910/910 [==============================] - 94s 103ms/step - loss: 0.0639 - accuracy: 0.9777 - val_loss: 0.1583 - val_accuracy: 0.9524\n",
            "\n",
            "Epoch 00008: val_accuracy improved from 0.95132 to 0.95242, saving model to model_8_checkpoint/cp.ckpt\n",
            "INFO:tensorflow:Assets written to: model_8_checkpoint/cp.ckpt/assets\n",
            "Epoch 9/20\n",
            "910/910 [==============================] - 96s 105ms/step - loss: 0.0587 - accuracy: 0.9795 - val_loss: 0.1434 - val_accuracy: 0.9568\n",
            "\n",
            "Epoch 00009: val_accuracy improved from 0.95242 to 0.95682, saving model to model_8_checkpoint/cp.ckpt\n",
            "INFO:tensorflow:Assets written to: model_8_checkpoint/cp.ckpt/assets\n",
            "Epoch 10/20\n",
            "910/910 [==============================] - 95s 104ms/step - loss: 0.0532 - accuracy: 0.9812 - val_loss: 0.1499 - val_accuracy: 0.9576\n",
            "\n",
            "Epoch 00010: val_accuracy improved from 0.95682 to 0.95758, saving model to model_8_checkpoint/cp.ckpt\n",
            "INFO:tensorflow:Assets written to: model_8_checkpoint/cp.ckpt/assets\n",
            "Epoch 11/20\n",
            "910/910 [==============================] - 95s 104ms/step - loss: 0.0500 - accuracy: 0.9822 - val_loss: 0.1491 - val_accuracy: 0.9562\n",
            "\n",
            "Epoch 00011: val_accuracy did not improve from 0.95758\n",
            "Epoch 12/20\n",
            "910/910 [==============================] - 95s 104ms/step - loss: 0.0455 - accuracy: 0.9835 - val_loss: 0.1380 - val_accuracy: 0.9605\n",
            "\n",
            "Epoch 00012: val_accuracy improved from 0.95758 to 0.96048, saving model to model_8_checkpoint/cp.ckpt\n",
            "INFO:tensorflow:Assets written to: model_8_checkpoint/cp.ckpt/assets\n",
            "Epoch 13/20\n",
            "910/910 [==============================] - 94s 104ms/step - loss: 0.0436 - accuracy: 0.9839 - val_loss: 0.1385 - val_accuracy: 0.9593\n",
            "\n",
            "Epoch 00013: val_accuracy did not improve from 0.96048\n",
            "Epoch 14/20\n",
            "910/910 [==============================] - 94s 104ms/step - loss: 0.0414 - accuracy: 0.9847 - val_loss: 0.1335 - val_accuracy: 0.9615\n",
            "\n",
            "Epoch 00014: val_accuracy improved from 0.96048 to 0.96146, saving model to model_8_checkpoint/cp.ckpt\n",
            "INFO:tensorflow:Assets written to: model_8_checkpoint/cp.ckpt/assets\n",
            "Epoch 15/20\n",
            "910/910 [==============================] - 94s 104ms/step - loss: 0.0383 - accuracy: 0.9855 - val_loss: 0.1478 - val_accuracy: 0.9573\n",
            "\n",
            "Epoch 00015: val_accuracy did not improve from 0.96146\n",
            "Epoch 16/20\n",
            "910/910 [==============================] - 95s 104ms/step - loss: 0.0381 - accuracy: 0.9858 - val_loss: 0.1433 - val_accuracy: 0.9607\n",
            "\n",
            "Epoch 00016: val_accuracy did not improve from 0.96146\n",
            "Epoch 17/20\n",
            "910/910 [==============================] - 94s 104ms/step - loss: 0.0355 - accuracy: 0.9865 - val_loss: 0.1410 - val_accuracy: 0.9609\n",
            "\n",
            "Epoch 00017: val_accuracy did not improve from 0.96146\n",
            "Epoch 18/20\n",
            "910/910 [==============================] - 95s 104ms/step - loss: 0.0331 - accuracy: 0.9874 - val_loss: 0.1447 - val_accuracy: 0.9616\n",
            "\n",
            "Epoch 00018: val_accuracy improved from 0.96146 to 0.96163, saving model to model_8_checkpoint/cp.ckpt\n",
            "INFO:tensorflow:Assets written to: model_8_checkpoint/cp.ckpt/assets\n",
            "Epoch 19/20\n",
            "910/910 [==============================] - 95s 104ms/step - loss: 0.0319 - accuracy: 0.9879 - val_loss: 0.1440 - val_accuracy: 0.9633\n",
            "\n",
            "Epoch 00019: val_accuracy improved from 0.96163 to 0.96330, saving model to model_8_checkpoint/cp.ckpt\n",
            "INFO:tensorflow:Assets written to: model_8_checkpoint/cp.ckpt/assets\n",
            "Epoch 20/20\n",
            "910/910 [==============================] - 94s 104ms/step - loss: 0.0307 - accuracy: 0.9882 - val_loss: 0.1382 - val_accuracy: 0.9644\n",
            "\n",
            "Epoch 00020: val_accuracy improved from 0.96330 to 0.96442, saving model to model_8_checkpoint/cp.ckpt\n",
            "INFO:tensorflow:Assets written to: model_8_checkpoint/cp.ckpt/assets\n"
          ],
          "name": "stdout"
        }
      ]
    },
    {
      "cell_type": "markdown",
      "metadata": {
        "id": "ZEt5Ccb6LoQE"
      },
      "source": [
        "## 검증"
      ]
    },
    {
      "cell_type": "code",
      "metadata": {
        "id": "-ljV9gLsf8LY",
        "colab": {
          "base_uri": "https://localhost:8080/"
        },
        "outputId": "68e0bb6e-3f4f-45fd-f50b-05ce21064940"
      },
      "source": [
        "val_loss, val_accuracy = model_8.evaluate(valid_set)\n",
        "print(val_loss,val_accuracy)"
      ],
      "execution_count": 13,
      "outputs": [
        {
          "output_type": "stream",
          "text": [
            "228/228 [==============================] - 18s 77ms/step - loss: 0.1382 - accuracy: 0.9644\n",
            "0.13817355036735535 0.9644170999526978\n"
          ],
          "name": "stdout"
        }
      ]
    },
    {
      "cell_type": "markdown",
      "metadata": {
        "id": "mXzCjvzuLp-6"
      },
      "source": [
        "## Summary"
      ]
    },
    {
      "cell_type": "code",
      "metadata": {
        "id": "BzvhsgfBFjNd",
        "colab": {
          "base_uri": "https://localhost:8080/"
        },
        "outputId": "7e92d32c-e52f-4da7-e1d3-7a3625ee1477"
      },
      "source": [
        "model_8.summary()"
      ],
      "execution_count": 14,
      "outputs": [
        {
          "output_type": "stream",
          "text": [
            "Model: \"sequential\"\n",
            "_________________________________________________________________\n",
            "Layer (type)                 Output Shape              Param #   \n",
            "=================================================================\n",
            "conv2d (Conv2D)              (None, 38, 38, 32)        320       \n",
            "_________________________________________________________________\n",
            "max_pooling2d (MaxPooling2D) (None, 19, 19, 32)        0         \n",
            "_________________________________________________________________\n",
            "conv2d_1 (Conv2D)            (None, 17, 17, 64)        18496     \n",
            "_________________________________________________________________\n",
            "max_pooling2d_1 (MaxPooling2 (None, 8, 8, 64)          0         \n",
            "_________________________________________________________________\n",
            "conv2d_2 (Conv2D)            (None, 6, 6, 64)          36928     \n",
            "_________________________________________________________________\n",
            "max_pooling2d_2 (MaxPooling2 (None, 3, 3, 64)          0         \n",
            "_________________________________________________________________\n",
            "flatten (Flatten)            (None, 576)               0         \n",
            "_________________________________________________________________\n",
            "dense (Dense)                (None, 128)               73856     \n",
            "_________________________________________________________________\n",
            "dropout (Dropout)            (None, 128)               0         \n",
            "_________________________________________________________________\n",
            "dense_1 (Dense)              (None, 64)                8256      \n",
            "_________________________________________________________________\n",
            "dense_2 (Dense)              (None, 64)                4160      \n",
            "_________________________________________________________________\n",
            "dense_3 (Dense)              (None, 14)                910       \n",
            "=================================================================\n",
            "Total params: 142,926\n",
            "Trainable params: 142,926\n",
            "Non-trainable params: 0\n",
            "_________________________________________________________________\n"
          ],
          "name": "stdout"
        }
      ]
    },
    {
      "cell_type": "markdown",
      "metadata": {
        "id": "4swbY9xZLtGU"
      },
      "source": [
        "## 학습상태 확인"
      ]
    },
    {
      "cell_type": "code",
      "metadata": {
        "id": "Yz9ygMySpPUs",
        "colab": {
          "base_uri": "https://localhost:8080/",
          "height": 573
        },
        "outputId": "6b1f1ac7-d8da-4e3b-dc52-faf82a012c4e"
      },
      "source": [
        "plot_loss_curves(history_8)"
      ],
      "execution_count": 15,
      "outputs": [
        {
          "output_type": "display_data",
          "data": {
            "image/png": "[encoded data removed]",
            "text/plain": [
              "<Figure size 432x288 with 1 Axes>"
            ]
          },
          "metadata": {
            "tags": [],
            "needs_background": "light"
          }
        },
        {
          "output_type": "display_data",
          "data": {
            "image/png": "[encoded data removed]",
            "text/plain": [
              "<Figure size 432x288 with 1 Axes>"
            ]
          },
          "metadata": {
            "tags": [],
            "needs_background": "light"
          }
        }
      ]
    },
    {
      "cell_type": "markdown",
      "metadata": {
        "id": "8jqOeYtXLve1"
      },
      "source": [
        "## 모델 저장"
      ]
    },
    {
      "cell_type": "code",
      "metadata": {
        "id": "rPrUpZ9gHFL4",
        "colab": {
          "base_uri": "https://localhost:8080/"
        },
        "outputId": "493b1d28-8586-4d62-e472-0ee3e0b735d0"
      },
      "source": [
        "# model_8.save('/Users/sangjulee1/desktop/HandwrittenCalc_acc_0.9644.H5')"
      ],
      "execution_count": 82,
      "outputs": [
        {
          "output_type": "stream",
          "text": [
            "INFO:tensorflow:Assets written to: /Users/sangjulee1/desktop/HandwrittenCalc_acc_0.9644.H5/assets\n"
          ],
          "name": "stdout"
        }
      ]
    },
    {
      "cell_type": "code",
      "metadata": {
        "id": "MS55ah5tWFSy",
        "colab": {
          "base_uri": "https://localhost:8080/"
        },
        "outputId": "e2c08679-9f63-4489-d999-f9d5b20d1d0b"
      },
      "source": [
        "# from google.colab import drive\n",
        "# drive.mount('/content/drive')"
      ],
      "execution_count": 83,
      "outputs": [
        {
          "output_type": "stream",
          "text": [
            "Mounted at /content/drive\n"
          ],
          "name": "stdout"
        }
      ]
    },
    {
      "cell_type": "code",
      "metadata": {
        "id": "-LhtyVHlHE8a"
      },
      "source": [],
      "execution_count": 23,
      "outputs": []
    }
  ]
}